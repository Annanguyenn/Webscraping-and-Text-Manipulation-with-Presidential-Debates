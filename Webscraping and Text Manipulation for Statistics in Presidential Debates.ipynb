{
 "cells": [
  {
   "cell_type": "markdown",
   "metadata": {},
   "source": [
    "# Webscraping and Text Manipulation: Statistics in Presidential Debates"
   ]
  },
  {
   "cell_type": "markdown",
   "metadata": {
    "collapsed": true
   },
   "source": [
    "Scrape Presidential Debates from the Commission of Presidential Debates website: http://www.debates.org/index.php?page=debate-transcripts.\n",
    "\n",
    "1. By using `requests` and `BeautifulSoup` , I found all the links / URLs on the website that links to transcriptions of **First Presidential Debates** from the years [2012, 2008, 2004, 2000, 1996, 1988, 1984, 1976, 1960]. \n",
    "\n",
    "2. Report:\n",
    "    1. The length of the transcript of the debate (as in the number of characters in transcription string).\n",
    "    2. Count how many times the word **war** was used in the different debates.\n",
    "    3. Scrape the most common used word in the debate, and how many times it was used."
   ]
  },
  {
   "cell_type": "code",
   "execution_count": 1,
   "metadata": {},
   "outputs": [],
   "source": [
    "import requests\n",
    "import bs4 as bs\n",
    "import pandas as pd\n",
    "import re"
   ]
  },
  {
   "cell_type": "code",
   "execution_count": 2,
   "metadata": {},
   "outputs": [],
   "source": [
    "source = requests.get('http://www.debates.org/index.php?page=debate-transcripts').content"
   ]
  },
  {
   "cell_type": "code",
   "execution_count": 3,
   "metadata": {},
   "outputs": [],
   "source": [
    "soup = bs.BeautifulSoup(source,'html.parser')"
   ]
  },
  {
   "cell_type": "code",
   "execution_count": 4,
   "metadata": {},
   "outputs": [],
   "source": [
    "content = soup.find(id='content-sm')"
   ]
  },
  {
   "cell_type": "code",
   "execution_count": 5,
   "metadata": {},
   "outputs": [],
   "source": [
    "firstdebatelink=[]"
   ]
  },
  {
   "cell_type": "code",
   "execution_count": 6,
   "metadata": {},
   "outputs": [],
   "source": [
    "for link in content.findAll('a'):\n",
    "    if 'The First' in link.string:\n",
    "        firstdebatelink.append(link.get('href'))"
   ]
  },
  {
   "cell_type": "code",
   "execution_count": 7,
   "metadata": {},
   "outputs": [
    {
     "data": {
      "text/plain": [
       "['http://www.debates.org/index.php?page=october-3-2012-debate-transcript',\n",
       " 'http://www.debates.org/index.php?page=2008-debate-transcript',\n",
       " 'http://www.debates.org/index.php?page=september-30-2004-debate-transcript',\n",
       " 'http://www.debates.org/index.php?page=october-3-2000-transcript',\n",
       " 'http://www.debates.org/index.php?page=october-6-1996-debate-transcript',\n",
       " 'http://www.debates.org/index.php?page=september-25-1988-debate-transcript',\n",
       " 'http://www.debates.org/index.php?page=october-7-1984-debate-transcript',\n",
       " 'http://www.debates.org/index.php?page=september-23-1976-debate-transcript',\n",
       " 'http://www.debates.org/index.php?page=september-26-1960-debate-transcript']"
      ]
     },
     "execution_count": 7,
     "metadata": {},
     "output_type": "execute_result"
    }
   ],
   "source": [
    "firstdebatelink"
   ]
  },
  {
   "cell_type": "code",
   "execution_count": 8,
   "metadata": {},
   "outputs": [
    {
     "name": "stdout",
     "output_type": "stream",
     "text": [
      "http://www.debates.org/index.php?page=october-3-2012-debate-transcript\n",
      "http://www.debates.org/index.php?page=2008-debate-transcript\n",
      "http://www.debates.org/index.php?page=september-30-2004-debate-transcript\n",
      "http://www.debates.org/index.php?page=october-3-2000-transcript\n",
      "http://www.debates.org/index.php?page=october-6-1996-debate-transcript\n",
      "http://www.debates.org/index.php?page=september-25-1988-debate-transcript\n",
      "http://www.debates.org/index.php?page=october-7-1984-debate-transcript\n",
      "http://www.debates.org/index.php?page=september-23-1976-debate-transcript\n",
      "http://www.debates.org/index.php?page=september-26-1960-debate-transcript\n"
     ]
    }
   ],
   "source": [
    "for link in content.findAll('a'):\n",
    "    if 'The First' in link.string:\n",
    "        print(link.get('href'))"
   ]
  },
  {
   "cell_type": "code",
   "execution_count": 9,
   "metadata": {},
   "outputs": [],
   "source": [
    "title=[]"
   ]
  },
  {
   "cell_type": "code",
   "execution_count": 10,
   "metadata": {},
   "outputs": [],
   "source": [
    "for link in content.findAll('a'):\n",
    "    if 'The First' in link.string:\n",
    "        title.append(link.string)"
   ]
  },
  {
   "cell_type": "code",
   "execution_count": 11,
   "metadata": {},
   "outputs": [
    {
     "data": {
      "text/plain": [
       "['October 3, 2012: The First Obama-Romney Presidential Debate',\n",
       " 'September 26, 2008: The First McCain-Obama Presidential Debate',\n",
       " 'September 30, 2004: The First Bush-Kerry Presidential Debate',\n",
       " 'October 3, 2000: The First Gore-Bush Presidential Debate',\n",
       " 'October 6, 1996: The First Clinton-Dole Presidential Debate',\n",
       " 'September 25, 1988: The First Bush-Dukakis Presidential Debate',\n",
       " 'October 7, 1984: The First Reagan-Mondale Presidential Debate',\n",
       " 'September 23, 1976: The First Carter-Ford Presidential Debate',\n",
       " 'September 26, 1960: The First Kennedy-Nixon Presidential Debate']"
      ]
     },
     "execution_count": 11,
     "metadata": {},
     "output_type": "execute_result"
    }
   ],
   "source": [
    "title"
   ]
  },
  {
   "cell_type": "code",
   "execution_count": 12,
   "metadata": {},
   "outputs": [],
   "source": [
    "df = pd.DataFrame(columns=title)"
   ]
  },
  {
   "cell_type": "code",
   "execution_count": 13,
   "metadata": {},
   "outputs": [
    {
     "data": {
      "text/html": [
       "<div>\n",
       "<style scoped>\n",
       "    .dataframe tbody tr th:only-of-type {\n",
       "        vertical-align: middle;\n",
       "    }\n",
       "\n",
       "    .dataframe tbody tr th {\n",
       "        vertical-align: top;\n",
       "    }\n",
       "\n",
       "    .dataframe thead th {\n",
       "        text-align: right;\n",
       "    }\n",
       "</style>\n",
       "<table border=\"1\" class=\"dataframe\">\n",
       "  <thead>\n",
       "    <tr style=\"text-align: right;\">\n",
       "      <th></th>\n",
       "      <th>October 3, 2012: The First Obama-Romney Presidential Debate</th>\n",
       "      <th>September 26, 2008: The First McCain-Obama Presidential Debate</th>\n",
       "      <th>September 30, 2004: The First Bush-Kerry Presidential Debate</th>\n",
       "      <th>October 3, 2000: The First Gore-Bush Presidential Debate</th>\n",
       "      <th>October 6, 1996: The First Clinton-Dole Presidential Debate</th>\n",
       "      <th>September 25, 1988: The First Bush-Dukakis Presidential Debate</th>\n",
       "      <th>October 7, 1984: The First Reagan-Mondale Presidential Debate</th>\n",
       "      <th>September 23, 1976: The First Carter-Ford Presidential Debate</th>\n",
       "      <th>September 26, 1960: The First Kennedy-Nixon Presidential Debate</th>\n",
       "    </tr>\n",
       "  </thead>\n",
       "  <tbody>\n",
       "  </tbody>\n",
       "</table>\n",
       "</div>"
      ],
      "text/plain": [
       "Empty DataFrame\n",
       "Columns: [October 3, 2012: The First Obama-Romney Presidential Debate, September 26, 2008: The First McCain-Obama Presidential Debate, September 30, 2004: The First Bush-Kerry Presidential Debate, October 3, 2000: The First Gore-Bush Presidential Debate, October 6, 1996: The First Clinton-Dole Presidential Debate, September 25, 1988: The First Bush-Dukakis Presidential Debate, October 7, 1984: The First Reagan-Mondale Presidential Debate, September 23, 1976: The First Carter-Ford Presidential Debate, September 26, 1960: The First Kennedy-Nixon Presidential Debate]\n",
       "Index: []"
      ]
     },
     "execution_count": 13,
     "metadata": {},
     "output_type": "execute_result"
    }
   ],
   "source": [
    "df"
   ]
  },
  {
   "cell_type": "code",
   "execution_count": 14,
   "metadata": {},
   "outputs": [],
   "source": [
    "nospacechars = []"
   ]
  },
  {
   "cell_type": "code",
   "execution_count": 15,
   "metadata": {},
   "outputs": [],
   "source": [
    "for i in firstdebatelink:\n",
    "    source = requests.get(i).content\n",
    "    soup = bs.BeautifulSoup(source,'html.parser')\n",
    "    content = soup.find(id='content-sm')\n",
    "    count = content.find('p').text\n",
    "    count = count.replace('\\n', '')\n",
    "    nospacechars.append(len(re.sub(r\"\\s+\", \"\", count)))"
   ]
  },
  {
   "cell_type": "code",
   "execution_count": 16,
   "metadata": {},
   "outputs": [
    {
     "data": {
      "text/plain": [
       "[77994, 150409, 68161, 74689, 76428, 71975, 71293, 66121, 50001]"
      ]
     },
     "execution_count": 16,
     "metadata": {},
     "output_type": "execute_result"
    }
   ],
   "source": [
    "nospacechars"
   ]
  },
  {
   "cell_type": "code",
   "execution_count": 17,
   "metadata": {},
   "outputs": [],
   "source": [
    "war_count=[]"
   ]
  },
  {
   "cell_type": "code",
   "execution_count": 18,
   "metadata": {},
   "outputs": [],
   "source": [
    "for i in firstdebatelink:\n",
    "    source = requests.get(i).content\n",
    "    soup = bs.BeautifulSoup(source,'html.parser')\n",
    "    content = soup.find(id='content-sm')\n",
    "    count = content.find('p').text\n",
    "    a = re.split(r'\\W', count)\n",
    "    b = a.count('wars')+a.count('Wars')+a.count('war')+a.count('War')\n",
    "    war_count.append(b)"
   ]
  },
  {
   "cell_type": "code",
   "execution_count": 19,
   "metadata": {},
   "outputs": [
    {
     "data": {
      "text/plain": [
       "[5, 48, 64, 11, 15, 14, 3, 7, 3]"
      ]
     },
     "execution_count": 19,
     "metadata": {},
     "output_type": "execute_result"
    }
   ],
   "source": [
    "war_count"
   ]
  },
  {
   "cell_type": "code",
   "execution_count": 20,
   "metadata": {},
   "outputs": [],
   "source": [
    "from collections import Counter"
   ]
  },
  {
   "cell_type": "code",
   "execution_count": 21,
   "metadata": {},
   "outputs": [],
   "source": [
    "most_common_w=[]"
   ]
  },
  {
   "cell_type": "code",
   "execution_count": 22,
   "metadata": {},
   "outputs": [],
   "source": [
    "for i in firstdebatelink:\n",
    "    source = requests.get(i).content\n",
    "    soup = bs.BeautifulSoup(source,'html.parser')\n",
    "    content = soup.find(id='content-sm')\n",
    "    count = content.find('p').text\n",
    "    words = re.findall(r'\\w+', count)\n",
    "    cap_words = [word.upper() for word in words]\n",
    "    word_counts = Counter(cap_words)\n",
    "    mostcommon = word_counts.most_common(1)\n",
    "    most_common_w.append(mostcommon[0][0])"
   ]
  },
  {
   "cell_type": "code",
   "execution_count": 23,
   "metadata": {},
   "outputs": [
    {
     "data": {
      "text/plain": [
       "['THE', 'THE', 'THE', 'THE', 'THE', 'THE', 'THE', 'THE', 'THE']"
      ]
     },
     "execution_count": 23,
     "metadata": {},
     "output_type": "execute_result"
    }
   ],
   "source": [
    "most_common_w"
   ]
  },
  {
   "cell_type": "code",
   "execution_count": 24,
   "metadata": {},
   "outputs": [],
   "source": [
    "most_common_w_count=[]"
   ]
  },
  {
   "cell_type": "code",
   "execution_count": 25,
   "metadata": {},
   "outputs": [],
   "source": [
    "for i in firstdebatelink:\n",
    "    source = requests.get(i).content\n",
    "    soup = bs.BeautifulSoup(source,'html.parser')\n",
    "    content = soup.find(id='content-sm')\n",
    "    count = content.find('p').text\n",
    "    words = re.findall(r'\\w+', count)\n",
    "    cap_words = [word.upper() for word in words]\n",
    "    word_counts = Counter(cap_words)\n",
    "    mostcommon = word_counts.most_common(1)\n",
    "    most_common_w_count.append(mostcommon[0][1])"
   ]
  },
  {
   "cell_type": "code",
   "execution_count": 26,
   "metadata": {},
   "outputs": [
    {
     "data": {
      "text/plain": [
       "[757, 1470, 857, 919, 876, 804, 867, 857, 779]"
      ]
     },
     "execution_count": 26,
     "metadata": {},
     "output_type": "execute_result"
    }
   ],
   "source": [
    "most_common_w_count"
   ]
  },
  {
   "cell_type": "code",
   "execution_count": 27,
   "metadata": {},
   "outputs": [],
   "source": [
    "df.loc[1] = nospacechars\n",
    "df.loc[2] = war_count\n",
    "df.loc[3] = most_common_w\n",
    "df.loc[4] = most_common_w_count"
   ]
  },
  {
   "cell_type": "code",
   "execution_count": 28,
   "metadata": {},
   "outputs": [],
   "source": [
    "df['Name']=['Debate char length','war_count','most_common_w','most_common_w_count']"
   ]
  },
  {
   "cell_type": "code",
   "execution_count": 29,
   "metadata": {},
   "outputs": [
    {
     "data": {
      "text/html": [
       "<div>\n",
       "<style scoped>\n",
       "    .dataframe tbody tr th:only-of-type {\n",
       "        vertical-align: middle;\n",
       "    }\n",
       "\n",
       "    .dataframe tbody tr th {\n",
       "        vertical-align: top;\n",
       "    }\n",
       "\n",
       "    .dataframe thead th {\n",
       "        text-align: right;\n",
       "    }\n",
       "</style>\n",
       "<table border=\"1\" class=\"dataframe\">\n",
       "  <thead>\n",
       "    <tr style=\"text-align: right;\">\n",
       "      <th></th>\n",
       "      <th>October 3, 2012: The First Obama-Romney Presidential Debate</th>\n",
       "      <th>September 26, 2008: The First McCain-Obama Presidential Debate</th>\n",
       "      <th>September 30, 2004: The First Bush-Kerry Presidential Debate</th>\n",
       "      <th>October 3, 2000: The First Gore-Bush Presidential Debate</th>\n",
       "      <th>October 6, 1996: The First Clinton-Dole Presidential Debate</th>\n",
       "      <th>September 25, 1988: The First Bush-Dukakis Presidential Debate</th>\n",
       "      <th>October 7, 1984: The First Reagan-Mondale Presidential Debate</th>\n",
       "      <th>September 23, 1976: The First Carter-Ford Presidential Debate</th>\n",
       "      <th>September 26, 1960: The First Kennedy-Nixon Presidential Debate</th>\n",
       "    </tr>\n",
       "    <tr>\n",
       "      <th>Name</th>\n",
       "      <th></th>\n",
       "      <th></th>\n",
       "      <th></th>\n",
       "      <th></th>\n",
       "      <th></th>\n",
       "      <th></th>\n",
       "      <th></th>\n",
       "      <th></th>\n",
       "      <th></th>\n",
       "    </tr>\n",
       "  </thead>\n",
       "  <tbody>\n",
       "    <tr>\n",
       "      <th>Debate char length</th>\n",
       "      <td>77994</td>\n",
       "      <td>150409</td>\n",
       "      <td>68161</td>\n",
       "      <td>74689</td>\n",
       "      <td>76428</td>\n",
       "      <td>71975</td>\n",
       "      <td>71293</td>\n",
       "      <td>66121</td>\n",
       "      <td>50001</td>\n",
       "    </tr>\n",
       "    <tr>\n",
       "      <th>war_count</th>\n",
       "      <td>5</td>\n",
       "      <td>48</td>\n",
       "      <td>64</td>\n",
       "      <td>11</td>\n",
       "      <td>15</td>\n",
       "      <td>14</td>\n",
       "      <td>3</td>\n",
       "      <td>7</td>\n",
       "      <td>3</td>\n",
       "    </tr>\n",
       "    <tr>\n",
       "      <th>most_common_w</th>\n",
       "      <td>THE</td>\n",
       "      <td>THE</td>\n",
       "      <td>THE</td>\n",
       "      <td>THE</td>\n",
       "      <td>THE</td>\n",
       "      <td>THE</td>\n",
       "      <td>THE</td>\n",
       "      <td>THE</td>\n",
       "      <td>THE</td>\n",
       "    </tr>\n",
       "    <tr>\n",
       "      <th>most_common_w_count</th>\n",
       "      <td>757</td>\n",
       "      <td>1470</td>\n",
       "      <td>857</td>\n",
       "      <td>919</td>\n",
       "      <td>876</td>\n",
       "      <td>804</td>\n",
       "      <td>867</td>\n",
       "      <td>857</td>\n",
       "      <td>779</td>\n",
       "    </tr>\n",
       "  </tbody>\n",
       "</table>\n",
       "</div>"
      ],
      "text/plain": [
       "                    October 3, 2012: The First Obama-Romney Presidential Debate  \\\n",
       "Name                                                                              \n",
       "Debate char length                                               77994            \n",
       "war_count                                                            5            \n",
       "most_common_w                                                      THE            \n",
       "most_common_w_count                                                757            \n",
       "\n",
       "                    September 26, 2008: The First McCain-Obama Presidential Debate  \\\n",
       "Name                                                                                 \n",
       "Debate char length                                              150409               \n",
       "war_count                                                           48               \n",
       "most_common_w                                                      THE               \n",
       "most_common_w_count                                               1470               \n",
       "\n",
       "                    September 30, 2004: The First Bush-Kerry Presidential Debate  \\\n",
       "Name                                                                               \n",
       "Debate char length                                               68161             \n",
       "war_count                                                           64             \n",
       "most_common_w                                                      THE             \n",
       "most_common_w_count                                                857             \n",
       "\n",
       "                    October 3, 2000: The First Gore-Bush Presidential Debate  \\\n",
       "Name                                                                           \n",
       "Debate char length                                               74689         \n",
       "war_count                                                           11         \n",
       "most_common_w                                                      THE         \n",
       "most_common_w_count                                                919         \n",
       "\n",
       "                    October 6, 1996: The First Clinton-Dole Presidential Debate  \\\n",
       "Name                                                                              \n",
       "Debate char length                                               76428            \n",
       "war_count                                                           15            \n",
       "most_common_w                                                      THE            \n",
       "most_common_w_count                                                876            \n",
       "\n",
       "                    September 25, 1988: The First Bush-Dukakis Presidential Debate  \\\n",
       "Name                                                                                 \n",
       "Debate char length                                               71975               \n",
       "war_count                                                           14               \n",
       "most_common_w                                                      THE               \n",
       "most_common_w_count                                                804               \n",
       "\n",
       "                    October 7, 1984: The First Reagan-Mondale Presidential Debate  \\\n",
       "Name                                                                                \n",
       "Debate char length                                               71293              \n",
       "war_count                                                            3              \n",
       "most_common_w                                                      THE              \n",
       "most_common_w_count                                                867              \n",
       "\n",
       "                    September 23, 1976: The First Carter-Ford Presidential Debate  \\\n",
       "Name                                                                                \n",
       "Debate char length                                               66121              \n",
       "war_count                                                            7              \n",
       "most_common_w                                                      THE              \n",
       "most_common_w_count                                                857              \n",
       "\n",
       "                    September 26, 1960: The First Kennedy-Nixon Presidential Debate  \n",
       "Name                                                                                 \n",
       "Debate char length                                               50001               \n",
       "war_count                                                            3               \n",
       "most_common_w                                                      THE               \n",
       "most_common_w_count                                                779               "
      ]
     },
     "execution_count": 29,
     "metadata": {},
     "output_type": "execute_result"
    }
   ],
   "source": [
    "df.set_index('Name')"
   ]
  }
 ],
 "metadata": {
  "kernel_info": {
   "name": "data-x"
  },
  "kernelspec": {
   "display_name": "Python 3",
   "language": "python",
   "name": "python3"
  },
  "language_info": {
   "codemirror_mode": {
    "name": "ipython",
    "version": 3
   },
   "file_extension": ".py",
   "mimetype": "text/x-python",
   "name": "python",
   "nbconvert_exporter": "python",
   "pygments_lexer": "ipython3",
   "version": "3.6.5"
  },
  "nteract": {
   "version": "0.7.1"
  }
 },
 "nbformat": 4,
 "nbformat_minor": 2
}
